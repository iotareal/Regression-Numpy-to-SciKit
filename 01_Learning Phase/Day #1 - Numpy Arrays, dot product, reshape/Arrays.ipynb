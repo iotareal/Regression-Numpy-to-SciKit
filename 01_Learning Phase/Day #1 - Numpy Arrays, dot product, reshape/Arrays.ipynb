{
 "cells": [
  {
   "cell_type": "markdown",
   "metadata": {},
   "source": [
    "# NumPy\n",
    "Numpy is a python library that manage lists/arrays and different mathematical operations efficiently "
   ]
  },
  {
   "cell_type": "markdown",
   "metadata": {},
   "source": []
  },
  {
   "cell_type": "code",
   "execution_count": 10,
   "metadata": {},
   "outputs": [],
   "source": [
    "import numpy as np"
   ]
  },
  {
   "cell_type": "markdown",
   "metadata": {},
   "source": [
    "# Numpy Arrays\n",
    "`np.array()` are core data structures of numpy library, numpy arrays are faster than normal lists due to C-based optimizations, important difference between `np.array()` and list is that list can have any data type while `np.array()` can only have the elements of homogeneous data types. "
   ]
  },
  {
   "cell_type": "code",
   "execution_count": 11,
   "metadata": {},
   "outputs": [
    {
     "name": "stdout",
     "output_type": "stream",
     "text": [
      "[3 4 2 1]\n"
     ]
    }
   ],
   "source": [
    "arr=np.array([3,4,2,1])\n",
    "print(arr)"
   ]
  },
  {
   "cell_type": "markdown",
   "metadata": {},
   "source": [
    "## Different ways to define Numpy arrays\n",
    "There are 6 general mechanisms for creating arrays:\n",
    "\n",
    "1. Conversion from **other Python structures** (i.e. lists and tuples)\n",
    "\n",
    "2. Intrinsic NumPy **array creation functions** (e.g. arange, ones, zeros, etc.)\n",
    "\n",
    "3. **Replicating, joining, or mutating** existing arrays\n",
    "\n",
    "4. **Reading arrays from disk**, either from standard or custom formats\n",
    "\n",
    "5. Creating arrays from **raw bytes** through the use of **strings or buffers**\n",
    "\n",
    "6. Use of **special library functions** (e.g., random)\n",
    "\n",
    "[Numpy Official Article](https://numpy.org/devdocs/user/basics.creation.html#introduction)\n",
    "\n"
   ]
  },
  {
   "cell_type": "markdown",
   "metadata": {},
   "source": [
    "### Conversion from other Python structures \n",
    "Using object data structures like lists, tuples, with them we can initiate a numpy array.\n",
    "\n",
    "**Note:** The elements in the data structure must be of same data type, otherwise the statement will throw error."
   ]
  },
  {
   "cell_type": "code",
   "execution_count": 12,
   "metadata": {},
   "outputs": [
    {
     "name": "stdout",
     "output_type": "stream",
     "text": [
      "demo1: [10. 20. 30. 40.], float64\n",
      "demo2: [50 60 70 80], int64\n"
     ]
    }
   ],
   "source": [
    "py_list=[10,20,30,40]  # Python List\n",
    "py_tuple=(50,60,70,80) # Python Tuple\n",
    "\n",
    "demo1=np.array(py_list,dtype=float)  # np.array initialised with list and we explicitly defined the datatype of the array\n",
    "demo2=np.array(py_tuple) # np.array initialised with tuple\n",
    "\n",
    "print(f\"demo1: {demo1}, {demo1.dtype}\\ndemo2: {demo2}, {demo2.dtype}\") #values with type of values they stored\n",
    "\n"
   ]
  },
  {
   "cell_type": "markdown",
   "metadata": {},
   "source": [
    "### Intrinsic NumPy array creation functions\n",
    "\n",
    "Using inbuilt functions like `arange()`, `ones()`, `zeros()` to initialise the array such that the array have a fixed memory space ready to use."
   ]
  },
  {
   "cell_type": "code",
   "execution_count": 20,
   "metadata": {},
   "outputs": [
    {
     "name": "stdout",
     "output_type": "stream",
     "text": [
      "demo3 = [0 1 2 3]\n",
      "demo4 = [0. 0. 0. 0. 0.]\n",
      "demo5 = [[1. 1. 1.]\n",
      " [1. 1. 1.]\n",
      " [1. 1. 1.]]\n",
      "demo6 = [0. 0. 0. 0. 0.]\n",
      "demo7 = [[0. 0. 0.]\n",
      " [0. 0. 0.]\n",
      " [0. 0. 0.]]\n",
      "\n"
     ]
    }
   ],
   "source": [
    "demo3=np.arange(4)         # works just like range function go from i to n-1 (i,n)\n",
    "demo4=np.zeros(5)          # creates array of n size initialise values with zeros\n",
    "demo5=np.ones((3,3))       # creates a matrix cus we are using (3,3) initalise values with ones      \n",
    "demo6=np.empty(5)          # creates array with garbage values\n",
    "demo7=np.zeros_like(demo5) # creates copy of array(demo5) but initialise it with i for (i)_like() here i=zeros\n",
    "\n",
    "print(f\"demo3 = {demo3}\\ndemo4 = {demo4}\\ndemo5 = {demo5}\\ndemo6 = {demo6}\\ndemo7 = {demo7}\\n\")"
   ]
  },
  {
   "cell_type": "markdown",
   "metadata": {},
   "source": [
    "**Miscellaneous:** `array.shape` is used to get the shape or dimensions of the NumPy array"
   ]
  },
  {
   "cell_type": "code",
   "execution_count": 21,
   "metadata": {},
   "outputs": [
    {
     "name": "stdout",
     "output_type": "stream",
     "text": [
      "Shape of demo5 array: (3, 3)\n"
     ]
    }
   ],
   "source": [
    "print(f\"Shape of demo5 array: {demo5.shape}\") # will return (3,3)"
   ]
  },
  {
   "cell_type": "markdown",
   "metadata": {},
   "source": [
    "### Replicating, joining, or mutating existing arrays\n",
    "Make array by replicating, joining or mutating existing arrays, perhaps helpful do *feature scaling* on the data set on our regression model."
   ]
  },
  {
   "cell_type": "code",
   "execution_count": null,
   "metadata": {},
   "outputs": [
    {
     "name": "stdout",
     "output_type": "stream",
     "text": [
      "[0 1 2 3 0 1 2 3 0 1 2 3]\n",
      "[0 1 2 3 0 1 2 3 0 1 2 3 0 1 2 3]\n"
     ]
    }
   ],
   "source": [
    "demo8=np.tile(demo3,3)              # Tile the array n times (array,n) and returns the replicated/mutated array\n",
    "demo9=np.concatenate((demo3,demo8)) # concatenate two arrays\n",
    "print(demo8)\n",
    "print(demo9)"
   ]
  }
 ],
 "metadata": {
  "kernelspec": {
   "display_name": "ds_env",
   "language": "python",
   "name": "python3"
  },
  "language_info": {
   "codemirror_mode": {
    "name": "ipython",
    "version": 3
   },
   "file_extension": ".py",
   "mimetype": "text/x-python",
   "name": "python",
   "nbconvert_exporter": "python",
   "pygments_lexer": "ipython3",
   "version": "3.12.3"
  }
 },
 "nbformat": 4,
 "nbformat_minor": 2
}
