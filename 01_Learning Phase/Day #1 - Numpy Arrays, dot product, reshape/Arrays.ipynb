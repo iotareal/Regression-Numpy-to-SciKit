{
 "cells": [
  {
   "cell_type": "markdown",
   "metadata": {},
   "source": [
    "# NumPy\n",
    "Numpy is a python library that manage lists/arrays and different mathematical operations efficiently "
   ]
  },
  {
   "cell_type": "markdown",
   "metadata": {},
   "source": []
  },
  {
   "cell_type": "code",
   "execution_count": 2,
   "metadata": {},
   "outputs": [],
   "source": [
    "import numpy as np"
   ]
  },
  {
   "cell_type": "markdown",
   "metadata": {},
   "source": [
    "# Numpy Arrays\n",
    "`np.array()` are core data structures of numpy library, numpy arrays are faster than normal lists due to C-based optimizations, important difference between `np.array()` and list is that list can have any data type while `np.array()` can only have the elements of homogeneous data types. "
   ]
  },
  {
   "cell_type": "code",
   "execution_count": 3,
   "metadata": {},
   "outputs": [
    {
     "name": "stdout",
     "output_type": "stream",
     "text": [
      "[3 4 2 1]\n"
     ]
    }
   ],
   "source": [
    "arr=np.array([3,4,2,1])\n",
    "print(arr)"
   ]
  },
  {
   "cell_type": "markdown",
   "metadata": {},
   "source": [
    "## Different ways to define Numpy arrays\n",
    "There are 6 general mechanisms for creating arrays:\n",
    "\n",
    "1. Conversion from **other Python structures** (i.e. lists and tuples)\n",
    "\n",
    "2. Intrinsic NumPy **array creation functions** (e.g. arange, ones, zeros, etc.)\n",
    "\n",
    "3. **Replicating, joining, or mutating** existing arrays\n",
    "\n",
    "4. **Reading arrays from disk**, either from standard or custom formats\n",
    "\n",
    "5. Creating arrays from **raw bytes** through the use of **strings or buffers**\n",
    "\n",
    "6. Use of **special library functions** (e.g., random)\n",
    "\n",
    "[Numpy Official Article](https://numpy.org/devdocs/user/basics.creation.html#introduction)\n",
    "\n"
   ]
  },
  {
   "cell_type": "markdown",
   "metadata": {},
   "source": [
    "### Conversion from other Python structures \n",
    "Using object data structures like lists, tuples, with them we can initiate a numpy array.\n",
    "\n",
    "**Note:** The elements in the data structure must be of same data type."
   ]
  }
 ],
 "metadata": {
  "kernelspec": {
   "display_name": "ds_env",
   "language": "python",
   "name": "python3"
  },
  "language_info": {
   "codemirror_mode": {
    "name": "ipython",
    "version": 3
   },
   "file_extension": ".py",
   "mimetype": "text/x-python",
   "name": "python",
   "nbconvert_exporter": "python",
   "pygments_lexer": "ipython3",
   "version": "3.12.3"
  }
 },
 "nbformat": 4,
 "nbformat_minor": 2
}
